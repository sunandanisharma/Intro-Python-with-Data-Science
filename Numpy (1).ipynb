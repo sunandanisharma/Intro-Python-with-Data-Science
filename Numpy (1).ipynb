{
 "cells": [
  {
   "cell_type": "markdown",
   "metadata": {},
   "source": [
    "# Numpy"
   ]
  },
  {
   "cell_type": "code",
   "execution_count": 3,
   "metadata": {},
   "outputs": [],
   "source": [
    "# install numpy\n",
    "pip install numpy"
   ]
  },
  {
   "cell_type": "code",
   "execution_count": 4,
   "metadata": {},
   "outputs": [],
   "source": [
    "import numpy as np"
   ]
  },
  {
   "cell_type": "code",
   "execution_count": 9,
   "metadata": {},
   "outputs": [
    {
     "name": "stdout",
     "output_type": "stream",
     "text": [
      "1D array in numpy is [1 4 9 3 2]\n",
      "dtype of the numpy array is int32\n",
      "shape of the numpy array is (5,)\n"
     ]
    }
   ],
   "source": [
    "# Initializing from Python List\n",
    "A = np.array([1,4,9,3,2])\n",
    "print ('1D array in numpy is',A)\n",
    "print ('dtype of the numpy array is',(A.dtype))\n",
    "print ('shape of the numpy array is',A.shape)"
   ]
  },
  {
   "cell_type": "markdown",
   "metadata": {},
   "source": [
    "## Numpy array"
   ]
  },
  {
   "cell_type": "markdown",
   "metadata": {},
   "source": [
    "How to create array in numpy"
   ]
  },
  {
   "cell_type": "code",
   "execution_count": 2,
   "metadata": {},
   "outputs": [
    {
     "data": {
      "text/plain": [
       "array([0, 1, 2, 3, 4])"
      ]
     },
     "execution_count": 2,
     "metadata": {},
     "output_type": "execute_result"
    }
   ],
   "source": [
    "arr = np.arange(5)\n",
    "arr"
   ]
  },
  {
   "cell_type": "markdown",
   "metadata": {},
   "source": [
    "arange() will create arrays with regularly incrementing values."
   ]
  },
  {
   "cell_type": "code",
   "execution_count": 3,
   "metadata": {},
   "outputs": [
    {
     "data": {
      "text/plain": [
       "array([[1, 2, 3],\n",
       "       [4, 5, 6]])"
      ]
     },
     "execution_count": 3,
     "metadata": {},
     "output_type": "execute_result"
    }
   ],
   "source": [
    "# creatimg 2D array \n",
    "D_2 = np.array([[1,2,3] , [4,5,6]])\n",
    "D_2\n"
   ]
  },
  {
   "cell_type": "code",
   "execution_count": 4,
   "metadata": {},
   "outputs": [
    {
     "name": "stdout",
     "output_type": "stream",
     "text": [
      "shape of an array (2, 3)\n"
     ]
    }
   ],
   "source": [
    "# for finding shape\n",
    "print(\"shape of an array\" , D_2.shape)"
   ]
  },
  {
   "cell_type": "markdown",
   "metadata": {},
   "source": [
    "**How to add two arrays together**"
   ]
  },
  {
   "cell_type": "code",
   "execution_count": 5,
   "metadata": {},
   "outputs": [
    {
     "name": "stdout",
     "output_type": "stream",
     "text": [
      "[[ 8 10 12]\n",
      " [14 16 18]]\n"
     ]
    },
    {
     "data": {
      "text/plain": [
       "array([[ 1,  2,  3],\n",
       "       [ 4,  5,  6],\n",
       "       [ 7,  8,  9],\n",
       "       [10, 11, 12]])"
      ]
     },
     "execution_count": 5,
     "metadata": {},
     "output_type": "execute_result"
    }
   ],
   "source": [
    "arr1 = np.array([[1,2,3] , [4,5,6]])\n",
    "arr2 = np.array([[7,8,9] , [10,11,12]])\n",
    "\n",
    "# we can add arr2 as rows to the end of arr1\n",
    "# axis 0 = rows\n",
    "ARR = arr1+arr2\n",
    "print(ARR)\n",
    "np.concatenate((arr1 , arr2) , axis =0)"
   ]
  },
  {
   "cell_type": "code",
   "execution_count": 13,
   "metadata": {},
   "outputs": [
    {
     "data": {
      "text/plain": [
       "array([[ 1,  2,  3,  7,  8,  9],\n",
       "       [ 4,  5,  6, 10, 11, 12]])"
      ]
     },
     "execution_count": 13,
     "metadata": {},
     "output_type": "execute_result"
    }
   ],
   "source": [
    "# we can add arr2 as columns to end of arr1\n",
    "# axis 1 = columns\n",
    "\n",
    "np.concatenate((arr1 , arr2) , axis =1)"
   ]
  },
  {
   "cell_type": "markdown",
   "metadata": {},
   "source": [
    "**How to delete array in numpy**"
   ]
  },
  {
   "cell_type": "code",
   "execution_count": 9,
   "metadata": {},
   "outputs": [
    {
     "data": {
      "text/plain": [
       "array([[1, 2],\n",
       "       [4, 5]])"
      ]
     },
     "execution_count": 9,
     "metadata": {},
     "output_type": "execute_result"
    }
   ],
   "source": [
    "# [1,2,3] , [4,5,6]])\n",
    "del_arr1 = np.delete(arr1 , 2 , axis =1)\n",
    "del_arr1"
   ]
  },
  {
   "cell_type": "code",
   "execution_count": 15,
   "metadata": {},
   "outputs": [
    {
     "data": {
      "text/plain": [
       "array([[7, 8, 9]])"
      ]
     },
     "execution_count": 15,
     "metadata": {},
     "output_type": "execute_result"
    }
   ],
   "source": [
    "del_arr2 = np.delete(arr2 , 1 , axis =0)\n",
    "del_arr2"
   ]
  },
  {
   "cell_type": "markdown",
   "metadata": {},
   "source": [
    "**Insert value into array**"
   ]
  },
  {
   "cell_type": "code",
   "execution_count": 16,
   "metadata": {},
   "outputs": [
    {
     "data": {
      "text/plain": [
       "array([ 1,  2,  4,  8,  3,  6,  9, 12])"
      ]
     },
     "execution_count": 16,
     "metadata": {},
     "output_type": "execute_result"
    }
   ],
   "source": [
    "arr = np.array([[2,4,8] , [3,6,9]])\n",
    "\n",
    "\n",
    "# To insert at given index \n",
    "\n",
    "arr = np.insert(arr , 6 , 12 )\n",
    "\n",
    "\n",
    "# To insert at beginning \n",
    "arr = np.insert(arr , 0 , 1)\n",
    "arr"
   ]
  },
  {
   "cell_type": "markdown",
   "metadata": {},
   "source": [
    "**Slicing in array**"
   ]
  },
  {
   "cell_type": "code",
   "execution_count": 18,
   "metadata": {},
   "outputs": [
    {
     "data": {
      "text/plain": [
       "array([2, 4, 8, 3])"
      ]
     },
     "execution_count": 18,
     "metadata": {},
     "output_type": "execute_result"
    }
   ],
   "source": [
    "# slicing 1 to 5 gives us : [1 through 4]\n",
    "arr[1:5]"
   ]
  },
  {
   "cell_type": "code",
   "execution_count": 19,
   "metadata": {},
   "outputs": [
    {
     "data": {
      "text/plain": [
       "array([2, 8, 6])"
      ]
     },
     "execution_count": 19,
     "metadata": {},
     "output_type": "execute_result"
    }
   ],
   "source": [
    "# if we do this, we are giving k, which is the step function. \n",
    "#in this case step by 2\n",
    "arr[1:6:2]"
   ]
  },
  {
   "cell_type": "code",
   "execution_count": 13,
   "metadata": {},
   "outputs": [
    {
     "name": "stdout",
     "output_type": "stream",
     "text": [
      "before reversing [ 0  3  6  9 12 15 18]\n",
      "Elements  in reverse is [18 15 12  9  6  3  0]\n"
     ]
    }
   ],
   "source": [
    "array1 = np.arange(0,20,3)\n",
    "print ('before reversing',array1)\n",
    "array2 = array1[::-1]\n",
    "print ('Elements  in reverse is',array2)"
   ]
  },
  {
   "cell_type": "code",
   "execution_count": 11,
   "metadata": {},
   "outputs": [
    {
     "data": {
      "text/plain": [
       "array([[ 0,  1,  2,  3],\n",
       "       [ 4,  5,  6,  7],\n",
       "       [ 8,  9, 10, 11],\n",
       "       [12, 13, 14, 15]])"
      ]
     },
     "execution_count": 11,
     "metadata": {},
     "output_type": "execute_result"
    }
   ],
   "source": [
    "d2 = np.arange(16).reshape(4,4)\n",
    "d2"
   ]
  },
  {
   "cell_type": "markdown",
   "metadata": {},
   "source": [
    "## Matrix Operation"
   ]
  },
  {
   "cell_type": "code",
   "execution_count": 24,
   "metadata": {},
   "outputs": [
    {
     "data": {
      "text/plain": [
       "matrix([[1, 2, 4],\n",
       "        [2, 5, 3],\n",
       "        [7, 8, 9]])"
      ]
     },
     "execution_count": 24,
     "metadata": {},
     "output_type": "execute_result"
    }
   ],
   "source": [
    "a = np.array([[1,2,4],\n",
    "              [2,5,3], \n",
    "              [7,8,9]])\n",
    "A = np.mat(a)\n",
    "A"
   ]
  },
  {
   "cell_type": "code",
   "execution_count": 13,
   "metadata": {},
   "outputs": [
    {
     "data": {
      "text/plain": [
       "matrix([[1, 2, 4],\n",
       "        [2, 5, 3],\n",
       "        [7, 8, 9]])"
      ]
     },
     "execution_count": 13,
     "metadata": {},
     "output_type": "execute_result"
    }
   ],
   "source": [
    "A = np.mat('1,2,4;2,5,3;7,8,9')\n",
    "A"
   ]
  },
  {
   "cell_type": "code",
   "execution_count": 10,
   "metadata": {},
   "outputs": [
    {
     "name": "stdout",
     "output_type": "stream",
     "text": [
      "[[0. 0. 0. 0. 0.]\n",
      " [0. 0. 0. 0. 0.]\n",
      " [0. 0. 0. 0. 0.]]\n"
     ]
    }
   ],
   "source": [
    "matrix_0 = np.zeros(shape=(3,5))\n",
    "print(matrix_0)"
   ]
  },
  {
   "cell_type": "code",
   "execution_count": 11,
   "metadata": {},
   "outputs": [
    {
     "name": "stdout",
     "output_type": "stream",
     "text": [
      "[[1. 1.]\n",
      " [1. 1.]\n",
      " [1. 1.]]\n"
     ]
    }
   ],
   "source": [
    "matrix_1 = np.ones(shape=(3,2))\n",
    "print(matrix_1)"
   ]
  },
  {
   "cell_type": "code",
   "execution_count": 12,
   "metadata": {},
   "outputs": [
    {
     "name": "stdout",
     "output_type": "stream",
     "text": [
      "[[0.98654299 0.61790913 0.62945986 0.76172219]\n",
      " [0.16610172 0.15825002 0.78625597 0.51870997]\n",
      " [0.5545985  0.60911    0.26662096 0.24824894]]\n",
      "[[0 1 0 1]\n",
      " [0 1 0 0]\n",
      " [1 1 0 0]]\n",
      "[[ 0.96642455  2.26567367 -1.04317709  0.76608953]\n",
      " [-0.02185583 -0.12411676 -0.07553759 -0.47925059]\n",
      " [-0.317201   -0.15996539 -1.21639591  0.05351602]]\n"
     ]
    }
   ],
   "source": [
    "#Using numpy.random.random\n",
    "mat1 = np.random.random(size=(3,4))\n",
    "print (mat1)\n",
    "mat2 = np.random.randint(low=0,high=2,size=(3,4))\n",
    "print (mat2)\n",
    "mat3 = np.random.randn(3,4)\n",
    "print (mat3)"
   ]
  },
  {
   "cell_type": "code",
   "execution_count": 15,
   "metadata": {},
   "outputs": [
    {
     "name": "stdout",
     "output_type": "stream",
     "text": [
      "Original matrix of shapen is  ((3, 7), array([[1, 4, 4, 3, 5, 4, 0],\n",
      "       [5, 4, 1, 5, 2, 5, 3],\n",
      "       [3, 5, 3, 1, 1, 3, 1]]))\n",
      "First split of shape is  ((3, 4), array([[1, 4, 4, 3],\n",
      "       [5, 4, 1, 5],\n",
      "       [3, 5, 3, 1]]))\n",
      "Second split of shape is ((3, 2), array([[5, 4],\n",
      "       [2, 5],\n",
      "       [1, 3]]))\n",
      "Third split of shape is  ((3, 1), array([[0],\n",
      "       [3],\n",
      "       [1]]))\n"
     ]
    }
   ],
   "source": [
    "#Horizontal Matrix Splitting\n",
    "matr = np.random.randint(0,6,(3,7))\n",
    "splt1,splt2,splt3 = np.hsplit(matr,[4,6])\n",
    "print ('Original matrix of shapen is ',(matr.shape,matr))\n",
    "print ('First split of shape is ',(splt1.shape,splt1))\n",
    "print ('Second split of shape is',(splt2.shape,splt2))\n",
    "print ('Third split of shape is ',(splt3.shape,splt3))"
   ]
  },
  {
   "cell_type": "code",
   "execution_count": 16,
   "metadata": {},
   "outputs": [
    {
     "name": "stdout",
     "output_type": "stream",
     "text": [
      "Original matrix of shape is  ((3, 7), array([[1, 4, 4, 3, 5, 4, 0],\n",
      "       [5, 4, 1, 5, 2, 5, 3],\n",
      "       [3, 5, 3, 1, 1, 3, 1]]))\n",
      "First split of shape is ((1, 7), array([[1, 4, 4, 3, 5, 4, 0]]))\n",
      "Second split of shape is ((2, 7), array([[5, 4, 1, 5, 2, 5, 3],\n",
      "       [3, 5, 3, 1, 1, 3, 1]]))\n"
     ]
    }
   ],
   "source": [
    "#vertical Matrix Splitting \n",
    "sp1,sp2 = np.vsplit(matr,[1])\n",
    "print ('Original matrix of shape is ',(matr.shape,matr))\n",
    "print ('First split of shape is',(sp1.shape,sp1))\n",
    "print ('Second split of shape is',(sp2.shape,sp2))"
   ]
  },
  {
   "cell_type": "code",
   "execution_count": 26,
   "metadata": {},
   "outputs": [
    {
     "data": {
      "text/plain": [
       "array([[4],\n",
       "       [2],\n",
       "       [3]])"
      ]
     },
     "execution_count": 26,
     "metadata": {},
     "output_type": "execute_result"
    }
   ],
   "source": [
    "x = np.array([[4], [2], [3]])\n",
    "x"
   ]
  },
  {
   "cell_type": "code",
   "execution_count": 27,
   "metadata": {},
   "outputs": [
    {
     "data": {
      "text/plain": [
       "matrix([[20],\n",
       "        [27],\n",
       "        [71]])"
      ]
     },
     "execution_count": 27,
     "metadata": {},
     "output_type": "execute_result"
    }
   ],
   "source": [
    "A * x"
   ]
  },
  {
   "cell_type": "code",
   "execution_count": 28,
   "metadata": {},
   "outputs": [
    {
     "name": "stdout",
     "output_type": "stream",
     "text": [
      "[[ 1.00000000e+00  0.00000000e+00  0.00000000e+00]\n",
      " [ 0.00000000e+00  1.00000000e+00  2.08166817e-17]\n",
      " [ 2.22044605e-16 -8.32667268e-17  1.00000000e+00]]\n"
     ]
    }
   ],
   "source": [
    "print(A * A.I)"
   ]
  },
  {
   "cell_type": "code",
   "execution_count": 29,
   "metadata": {},
   "outputs": [
    {
     "name": "stdout",
     "output_type": "stream",
     "text": [
      "[[ 443  654  678]\n",
      " [ 489  731  741]\n",
      " [1269 1866 1919]]\n"
     ]
    }
   ],
   "source": [
    "print(A ** 3)\n"
   ]
  },
  {
   "cell_type": "markdown",
   "metadata": {},
   "source": [
    "**Sorting in array**"
   ]
  },
  {
   "cell_type": "code",
   "execution_count": 33,
   "metadata": {},
   "outputs": [
    {
     "data": {
      "text/plain": [
       "[20, 53, 61, 93]"
      ]
     },
     "execution_count": 33,
     "metadata": {},
     "output_type": "execute_result"
    }
   ],
   "source": [
    "weights = np.array([20, 93, 53, 61])\n",
    "sorted(weights)"
   ]
  },
  {
   "cell_type": "code",
   "execution_count": 34,
   "metadata": {},
   "outputs": [
    {
     "data": {
      "text/plain": [
       "[93, 61, 53, 20]"
      ]
     },
     "execution_count": 34,
     "metadata": {},
     "output_type": "execute_result"
    }
   ],
   "source": [
    "sorted(weights , reverse = True)"
   ]
  },
  {
   "cell_type": "markdown",
   "metadata": {},
   "source": [
    "## Statistical Function"
   ]
  },
  {
   "cell_type": "markdown",
   "metadata": {},
   "source": [
    "np.mean(data,axis=0)\n",
    "np.var(data,axis=0)\n",
    "np.sum(data,axis=0)\n",
    "np.max(data,axis=0)\n",
    "np.min(data,axis=0)\n",
    "np.percentile(data, percentage,axis=0)"
   ]
  },
  {
   "cell_type": "code",
   "execution_count": 17,
   "metadata": {},
   "outputs": [
    {
     "name": "stdout",
     "output_type": "stream",
     "text": [
      "Original matrix is  [[0 1 2]\n",
      " [3 4 5]\n",
      " [6 7 8]]\n",
      "Overall mean of matrix is  4.0\n",
      "Row mean of matrix is  [3. 4. 5.]\n",
      "Column mean of matrix is [1. 4. 7.]\n",
      "---------------------------\n",
      "\n",
      "Overall varience of matrix is 6.666666666666667\n",
      "Overall sum of matrix is 36\n",
      "Overall min of matrix is 0\n",
      "Overall max of matrix is  8\n",
      "-------------------------------------\n",
      "\n",
      "Marks = [ 30  31  32  40  90  95  97  98  99 100]\n",
      "Overall 30 percent quantile of marks is 37.599999999999994\n"
     ]
    }
   ],
   "source": [
    "\n",
    "matrix = np.arange(9).reshape((3,3))\n",
    "\n",
    "print ('Original matrix is ',matrix)\n",
    "\n",
    "print ('Overall mean of matrix is ',np.mean(matrix))\n",
    "print ('Row mean of matrix is ',np.mean(matrix, axis=0))\n",
    "print ('Column mean of matrix is',np.mean(matrix, axis=1))\n",
    "\n",
    "print ('---------------------------\\n')\n",
    "\n",
    "print ('Overall varience of matrix is',np.var(matrix))\n",
    "print ('Overall sum of matrix is',np.sum(matrix))\n",
    "print ('Overall min of matrix is',np.min(matrix))\n",
    "print ('Overall max of matrix is ',np.max(matrix))\n",
    "\n",
    "print ('-------------------------------------\\n')\n",
    "\n",
    "marks = np.array([30,31,32,40,90,95,97,98,99,100])\n",
    "print ('Marks =',marks)\n",
    "print ('Overall 30 percent quantile of marks is',(str(np.percentile(marks,30))))"
   ]
  },
  {
   "cell_type": "code",
   "execution_count": null,
   "metadata": {},
   "outputs": [],
   "source": []
  }
 ],
 "metadata": {
  "kernelspec": {
   "display_name": "Python 3",
   "language": "python",
   "name": "python3"
  },
  "language_info": {
   "codemirror_mode": {
    "name": "ipython",
    "version": 3
   },
   "file_extension": ".py",
   "mimetype": "text/x-python",
   "name": "python",
   "nbconvert_exporter": "python",
   "pygments_lexer": "ipython3",
   "version": "3.8.3"
  }
 },
 "nbformat": 4,
 "nbformat_minor": 4
}
